{
  "nbformat": 4,
  "nbformat_minor": 0,
  "metadata": {
    "colab": {
      "provenance": []
    },
    "kernelspec": {
      "name": "python3",
      "display_name": "Python 3"
    },
    "language_info": {
      "name": "python"
    }
  },
  "cells": [
    {
      "cell_type": "code",
      "execution_count": null,
      "metadata": {
        "id": "p5JECzR_zWnm"
      },
      "outputs": [],
      "source": [
        "import os\n",
        "import matplotlib.pyplot as plt\n",
        "import matplotlib.image as mpimg"
      ]
    },
    {
      "cell_type": "code",
      "source": [
        "def random_image(val_dir,val_class):\n",
        "    folder = val_dir + val_class\n",
        "    random_image = random.sample(os.listdir(folder),1)\n",
        "    img = mpimg.imread(folder + \"/\" + random_image[0])\n",
        "    plt.imshow(img)\n",
        "    plt.title(val_class)\n",
        "    return img"
      ],
      "metadata": {
        "id": "ueNGvs04zyKq"
      },
      "execution_count": null,
      "outputs": []
    },
    {
      "cell_type": "code",
      "source": [
        "import tensorflow as tf\n",
        "from tensorflow.keras import layers"
      ],
      "metadata": {
        "id": "Vkmqw2Ysz02K"
      },
      "execution_count": null,
      "outputs": []
    },
    {
      "cell_type": "code",
      "source": [
        "from google.colab import drive\n",
        "drive.mount('/content/drive')"
      ],
      "metadata": {
        "id": "8h16fZJbFKpP"
      },
      "execution_count": null,
      "outputs": []
    },
    {
      "cell_type": "markdown",
      "source": [
        "Создание наборов данных из изображений"
      ],
      "metadata": {
        "id": "NVso3QXS8HTB"
      }
    },
    {
      "cell_type": "code",
      "source": [
        "from tensorflow.keras.preprocessing import image_dataset_from_directory\n",
        "\n",
        "train_dir = \"/content/drive/MyDrive/Data/train\"\n",
        "test_dir =  \"/content/drive/MyDrive/Data/test\"\n",
        "val_dir = \"/content/drive/MyDrive/Data/val\"\n",
        "\n",
        "train_data = image_dataset_from_directory(train_dir,label_mode = \"categorical\", image_size = (224,224),batch_size = 16, shuffle = True,seed = 42)\n",
        "test_data = image_dataset_from_directory(test_dir,label_mode = \"categorical\", image_size = (224,224),batch_size = 16, shuffle = False,seed = 42)\n",
        "val_data = image_dataset_from_directory(val_dir,label_mode = \"categorical\", image_size = (224,224),batch_size = 16, shuffle = False,seed = 42)"
      ],
      "metadata": {
        "id": "ugpoKwb_z2WO"
      },
      "execution_count": null,
      "outputs": []
    },
    {
      "cell_type": "markdown",
      "source": [
        "*Обратный вызов*\n",
        "\n",
        "EarlyStopping - Этот обратный вызов полезен для предотвращения переобучения: если значение функции потерь на валидационном наборе данных не улучшается в течение определенного числа эпох, обучение прекращается.\n",
        "\n",
        "ReduceLROnPlateau - Этот обратный вызов полезен для динамического управления шагом обучения: если функция потерь на валидационном наборе данных не улучшается в течение определенного числа эпох, шаг обучения уменьшается, что может помочь в сходимости модели."
      ],
      "metadata": {
        "id": "oQjZG68i8gfz"
      }
    },
    {
      "cell_type": "code",
      "source": [
        "early_stop = tf.keras.callbacks.EarlyStopping(monitor = \"val_loss\",patience = 5, min_delta = 0.0001)\n",
        "reduce_lr = tf.keras.callbacks.ReduceLROnPlateau(monitor = \"val_loss\",factor = 0.2, patience = 4, min_lr = 1e-7)"
      ],
      "metadata": {
        "id": "yPm9428Uz4uu"
      },
      "execution_count": null,
      "outputs": []
    },
    {
      "cell_type": "markdown",
      "source": [
        "Аугментация данных"
      ],
      "metadata": {
        "id": "tQGr_oHf9AVv"
      }
    },
    {
      "cell_type": "code",
      "source": [
        "from tensorflow.keras.layers.experimental import preprocessing\n",
        "data_aug = tf.keras.Sequential([\n",
        "    preprocessing.RandomWidth(0.2),\n",
        "    preprocessing.RandomHeight(0.2),\n",
        "    preprocessing.RandomRotation(0.2),\n",
        "    preprocessing.RandomFlip(\"horizontal\"),\n",
        "    preprocessing.RandomContrast(factor=0.2),\n",
        "    preprocessing.RandomFlip(\"vertical\"),\n",
        "],name = \"data_augmentation_layer\")"
      ],
      "metadata": {
        "id": "-cfxK35az60e"
      },
      "execution_count": null,
      "outputs": []
    },
    {
      "cell_type": "markdown",
      "source": [
        " EfficientNetB0 - это предварительно обученная модель глубокого обучения, которая обеспечивает эффективную архитектуру для извлечения признаков из изображений"
      ],
      "metadata": {
        "id": "_GJYMpms9dFt"
      }
    },
    {
      "cell_type": "code",
      "source": [
        "model = tf.keras.applications.EfficientNetB0(\n",
        "    include_top=False,\n",
        "    weights='/content/drive/MyDrive/Data/efficientnetb0_notop.h5',\n",
        ")\n",
        "model.trainable = False"
      ],
      "metadata": {
        "id": "D2TNxjkGz9hz"
      },
      "execution_count": null,
      "outputs": []
    },
    {
      "cell_type": "markdown",
      "source": [
        "Создаем конечную модель, объединяя аугментированный вход, модель EfficientNetB0"
      ],
      "metadata": {
        "id": "2jxsBbKK_JLB"
      }
    },
    {
      "cell_type": "code",
      "source": [
        "inputs = layers.Input(shape = (224,224,3),name = \"input_layer\")\n",
        "x = data_aug(inputs)\n",
        "x = model(x)\n",
        "x = layers.GlobalAvgPool2D(name = \"pooling_layer\")(x)\n",
        "x = layers.Dense(256, activation=tf.keras.layers.LeakyReLU(alpha=0.2), kernel_initializer=tf.keras.initializers.he_normal())(x)\n",
        "x = layers.Dropout(0.2)(x)\n",
        "x = layers.Dense(6)(x)\n",
        "outputs = layers.Activation(\"softmax\",dtype = tf.float32)(x)\n",
        "model = tf.keras.Model(inputs,outputs)\n",
        "model.summary()"
      ],
      "metadata": {
        "id": "EH5_SWvY0EM1"
      },
      "execution_count": null,
      "outputs": []
    },
    {
      "cell_type": "markdown",
      "source": [
        "Компиляция модели"
      ],
      "metadata": {
        "id": "2dDunOYc_6Ja"
      }
    },
    {
      "cell_type": "code",
      "source": [
        "model.compile(loss = tf.keras.losses.CategoricalCrossentropy(),optimizer = tf.keras.optimizers.Adam(),metrics = [\"accuracy\"])"
      ],
      "metadata": {
        "id": "EFPsng9i0Hp1"
      },
      "execution_count": null,
      "outputs": []
    },
    {
      "cell_type": "markdown",
      "source": [
        "Обучение модели с использованием данных обучения train_data и валидации val_data\n"
      ],
      "metadata": {
        "id": "4es0wqjQAEgp"
      }
    },
    {
      "cell_type": "code",
      "source": [
        "history = model.fit(train_data,epochs = 13 , validation_data = val_data, callbacks = [early_stop,reduce_lr])"
      ],
      "metadata": {
        "id": "Rl9ALCNw0I55"
      },
      "execution_count": null,
      "outputs": []
    },
    {
      "cell_type": "code",
      "source": [
        "print(\"Testing Accuracy\",model.evaluate(test_data))"
      ],
      "metadata": {
        "id": "wcrPva_b0KTO"
      },
      "execution_count": null,
      "outputs": []
    },
    {
      "cell_type": "markdown",
      "source": [
        "Сохраняем модель"
      ],
      "metadata": {
        "id": "AF46qkmGD7fW"
      }
    },
    {
      "cell_type": "code",
      "source": [
        "model.save('DermAI_v10.h5')"
      ],
      "metadata": {
        "id": "MMDge3IC0mNY"
      },
      "execution_count": null,
      "outputs": []
    }
  ]
}